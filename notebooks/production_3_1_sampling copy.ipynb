{
 "cells": [
  {
   "cell_type": "code",
   "execution_count": 1,
   "metadata": {},
   "outputs": [],
   "source": [
    "%load_ext dotenv\n",
    "%dotenv ../src/.env\n",
    "import sys\n",
    "sys.path.append(\"../src\")\n",
    "from logger import get_logger\n",
    "_logs = get_logger(__name__) # receives a name of the logging module. "
   ]
  },
  {
   "cell_type": "code",
   "execution_count": 4,
   "metadata": {},
   "outputs": [],
   "source": [
    "import dask\n",
    "dask.config.set({'dataframe.query-planning': True})\n",
    "import dask.dataframe as dd\n",
    "import pandas as pd\n",
    "import numpy as np\n",
    "import os\n",
    "from glob import glob"
   ]
  },
  {
   "cell_type": "code",
   "execution_count": 17,
   "metadata": {},
   "outputs": [
    {
     "data": {
      "text/plain": [
       "'../data/prices/'"
      ]
     },
     "execution_count": 17,
     "metadata": {},
     "output_type": "execute_result"
    }
   ],
   "source": [
    "\n",
    "\n",
    "ft_dir"
   ]
  },
  {
   "cell_type": "code",
   "execution_count": 26,
   "metadata": {},
   "outputs": [],
   "source": [
    "ft_dir = os.getenv(\"PRICE_DATA\")\n",
    "ft_glob = glob(ft_dir+'*/*.parquet')\n",
    "df = dd.read_parquet(ft_glob).compute().reset_index()"
   ]
  },
  {
   "cell_type": "code",
   "execution_count": 27,
   "metadata": {},
   "outputs": [],
   "source": [
    "df = dd.read_parquet(ft_glob).compute().reset_index()\n"
   ]
  },
  {
   "cell_type": "code",
   "execution_count": 30,
   "metadata": {},
   "outputs": [],
   "source": [
    "df.drop('index', axis = 1, inplace=True)"
   ]
  },
  {
   "cell_type": "code",
   "execution_count": 31,
   "metadata": {},
   "outputs": [
    {
     "data": {
      "text/plain": [
       "array([[Timestamp('2013-12-02 00:00:00-0500', tz='America/New_York'),\n",
       "        31.886691297666324, 32.011633086635996, ..., 0.0, 'ABBV', 2013],\n",
       "       [Timestamp('2013-12-03 00:00:00-0500', tz='America/New_York'),\n",
       "        32.3075498247224, 33.050628224333785, ..., 0.0, 'ABBV', 2013],\n",
       "       [Timestamp('2013-12-04 00:00:00-0500', tz='America/New_York'),\n",
       "        32.71526353975656, 33.07036448977037, ..., 0.0, 'ABBV', 2013],\n",
       "       ...,\n",
       "       [Timestamp('2024-01-29 00:00:00-0500', tz='America/New_York'),\n",
       "        94.43150916283344, 95.30696734531783, ..., 0.0, 'MMM', 2024],\n",
       "       [Timestamp('2024-01-30 00:00:00-0500', tz='America/New_York'),\n",
       "        94.59872869789046, 94.93317752465357, ..., 0.0, 'MMM', 2024],\n",
       "       [Timestamp('2024-01-31 00:00:00-0500', tz='America/New_York'),\n",
       "        94.37248978875743, 94.37248978875743, ..., 0.0, 'MMM', 2024]],\n",
       "      dtype=object)"
      ]
     },
     "execution_count": 31,
     "metadata": {},
     "output_type": "execute_result"
    }
   ],
   "source": [
    "df.values"
   ]
  },
  {
   "cell_type": "code",
   "execution_count": 32,
   "metadata": {},
   "outputs": [
    {
     "data": {
      "text/html": [
       "<div>\n",
       "<style scoped>\n",
       "    .dataframe tbody tr th:only-of-type {\n",
       "        vertical-align: middle;\n",
       "    }\n",
       "\n",
       "    .dataframe tbody tr th {\n",
       "        vertical-align: top;\n",
       "    }\n",
       "\n",
       "    .dataframe thead th {\n",
       "        text-align: right;\n",
       "    }\n",
       "</style>\n",
       "<table border=\"1\" class=\"dataframe\">\n",
       "  <thead>\n",
       "    <tr style=\"text-align: right;\">\n",
       "      <th></th>\n",
       "      <th>Date</th>\n",
       "      <th>Open</th>\n",
       "      <th>High</th>\n",
       "      <th>Low</th>\n",
       "      <th>Close</th>\n",
       "      <th>Volume</th>\n",
       "      <th>Dividends</th>\n",
       "      <th>Stock Splits</th>\n",
       "      <th>ticker</th>\n",
       "      <th>year</th>\n",
       "    </tr>\n",
       "  </thead>\n",
       "  <tbody>\n",
       "    <tr>\n",
       "      <th>0</th>\n",
       "      <td>2013-12-02 00:00:00-05:00</td>\n",
       "      <td>31.886691</td>\n",
       "      <td>32.011633</td>\n",
       "      <td>31.577622</td>\n",
       "      <td>31.820930</td>\n",
       "      <td>4321900</td>\n",
       "      <td>0.0</td>\n",
       "      <td>0.0</td>\n",
       "      <td>ABBV</td>\n",
       "      <td>2013</td>\n",
       "    </tr>\n",
       "    <tr>\n",
       "      <th>1</th>\n",
       "      <td>2013-12-03 00:00:00-05:00</td>\n",
       "      <td>32.307550</td>\n",
       "      <td>33.050628</td>\n",
       "      <td>32.202335</td>\n",
       "      <td>32.859928</td>\n",
       "      <td>9480100</td>\n",
       "      <td>0.0</td>\n",
       "      <td>0.0</td>\n",
       "      <td>ABBV</td>\n",
       "      <td>2013</td>\n",
       "    </tr>\n",
       "    <tr>\n",
       "      <th>2</th>\n",
       "      <td>2013-12-04 00:00:00-05:00</td>\n",
       "      <td>32.715264</td>\n",
       "      <td>33.070364</td>\n",
       "      <td>32.419346</td>\n",
       "      <td>32.662655</td>\n",
       "      <td>5309200</td>\n",
       "      <td>0.0</td>\n",
       "      <td>0.0</td>\n",
       "      <td>ABBV</td>\n",
       "      <td>2013</td>\n",
       "    </tr>\n",
       "    <tr>\n",
       "      <th>3</th>\n",
       "      <td>2013-12-05 00:00:00-05:00</td>\n",
       "      <td>32.498247</td>\n",
       "      <td>32.925683</td>\n",
       "      <td>32.254938</td>\n",
       "      <td>32.721828</td>\n",
       "      <td>5449100</td>\n",
       "      <td>0.0</td>\n",
       "      <td>0.0</td>\n",
       "      <td>ABBV</td>\n",
       "      <td>2013</td>\n",
       "    </tr>\n",
       "    <tr>\n",
       "      <th>4</th>\n",
       "      <td>2013-12-06 00:00:00-05:00</td>\n",
       "      <td>32.991443</td>\n",
       "      <td>33.866043</td>\n",
       "      <td>32.912532</td>\n",
       "      <td>33.767403</td>\n",
       "      <td>7285800</td>\n",
       "      <td>0.0</td>\n",
       "      <td>0.0</td>\n",
       "      <td>ABBV</td>\n",
       "      <td>2013</td>\n",
       "    </tr>\n",
       "    <tr>\n",
       "      <th>...</th>\n",
       "      <td>...</td>\n",
       "      <td>...</td>\n",
       "      <td>...</td>\n",
       "      <td>...</td>\n",
       "      <td>...</td>\n",
       "      <td>...</td>\n",
       "      <td>...</td>\n",
       "      <td>...</td>\n",
       "      <td>...</td>\n",
       "      <td>...</td>\n",
       "    </tr>\n",
       "    <tr>\n",
       "      <th>23017</th>\n",
       "      <td>2024-01-25 00:00:00-05:00</td>\n",
       "      <td>92.247775</td>\n",
       "      <td>94.706929</td>\n",
       "      <td>92.080554</td>\n",
       "      <td>94.411835</td>\n",
       "      <td>6122900</td>\n",
       "      <td>0.0</td>\n",
       "      <td>0.0</td>\n",
       "      <td>MMM</td>\n",
       "      <td>2024</td>\n",
       "    </tr>\n",
       "    <tr>\n",
       "      <th>23018</th>\n",
       "      <td>2024-01-26 00:00:00-05:00</td>\n",
       "      <td>94.647914</td>\n",
       "      <td>95.316805</td>\n",
       "      <td>94.224940</td>\n",
       "      <td>94.421669</td>\n",
       "      <td>3720200</td>\n",
       "      <td>0.0</td>\n",
       "      <td>0.0</td>\n",
       "      <td>MMM</td>\n",
       "      <td>2024</td>\n",
       "    </tr>\n",
       "    <tr>\n",
       "      <th>23019</th>\n",
       "      <td>2024-01-29 00:00:00-05:00</td>\n",
       "      <td>94.431509</td>\n",
       "      <td>95.306967</td>\n",
       "      <td>93.880661</td>\n",
       "      <td>94.805298</td>\n",
       "      <td>3800000</td>\n",
       "      <td>0.0</td>\n",
       "      <td>0.0</td>\n",
       "      <td>MMM</td>\n",
       "      <td>2024</td>\n",
       "    </tr>\n",
       "    <tr>\n",
       "      <th>23020</th>\n",
       "      <td>2024-01-30 00:00:00-05:00</td>\n",
       "      <td>94.598729</td>\n",
       "      <td>94.933178</td>\n",
       "      <td>93.231440</td>\n",
       "      <td>94.185593</td>\n",
       "      <td>3200500</td>\n",
       "      <td>0.0</td>\n",
       "      <td>0.0</td>\n",
       "      <td>MMM</td>\n",
       "      <td>2024</td>\n",
       "    </tr>\n",
       "    <tr>\n",
       "      <th>23021</th>\n",
       "      <td>2024-01-31 00:00:00-05:00</td>\n",
       "      <td>94.372490</td>\n",
       "      <td>94.372490</td>\n",
       "      <td>92.621573</td>\n",
       "      <td>92.808464</td>\n",
       "      <td>6906800</td>\n",
       "      <td>0.0</td>\n",
       "      <td>0.0</td>\n",
       "      <td>MMM</td>\n",
       "      <td>2024</td>\n",
       "    </tr>\n",
       "  </tbody>\n",
       "</table>\n",
       "<p>23022 rows × 10 columns</p>\n",
       "</div>"
      ],
      "text/plain": [
       "                           Date       Open       High        Low      Close  \\\n",
       "0     2013-12-02 00:00:00-05:00  31.886691  32.011633  31.577622  31.820930   \n",
       "1     2013-12-03 00:00:00-05:00  32.307550  33.050628  32.202335  32.859928   \n",
       "2     2013-12-04 00:00:00-05:00  32.715264  33.070364  32.419346  32.662655   \n",
       "3     2013-12-05 00:00:00-05:00  32.498247  32.925683  32.254938  32.721828   \n",
       "4     2013-12-06 00:00:00-05:00  32.991443  33.866043  32.912532  33.767403   \n",
       "...                         ...        ...        ...        ...        ...   \n",
       "23017 2024-01-25 00:00:00-05:00  92.247775  94.706929  92.080554  94.411835   \n",
       "23018 2024-01-26 00:00:00-05:00  94.647914  95.316805  94.224940  94.421669   \n",
       "23019 2024-01-29 00:00:00-05:00  94.431509  95.306967  93.880661  94.805298   \n",
       "23020 2024-01-30 00:00:00-05:00  94.598729  94.933178  93.231440  94.185593   \n",
       "23021 2024-01-31 00:00:00-05:00  94.372490  94.372490  92.621573  92.808464   \n",
       "\n",
       "        Volume  Dividends  Stock Splits ticker  year  \n",
       "0      4321900        0.0           0.0   ABBV  2013  \n",
       "1      9480100        0.0           0.0   ABBV  2013  \n",
       "2      5309200        0.0           0.0   ABBV  2013  \n",
       "3      5449100        0.0           0.0   ABBV  2013  \n",
       "4      7285800        0.0           0.0   ABBV  2013  \n",
       "...        ...        ...           ...    ...   ...  \n",
       "23017  6122900        0.0           0.0    MMM  2024  \n",
       "23018  3720200        0.0           0.0    MMM  2024  \n",
       "23019  3800000        0.0           0.0    MMM  2024  \n",
       "23020  3200500        0.0           0.0    MMM  2024  \n",
       "23021  6906800        0.0           0.0    MMM  2024  \n",
       "\n",
       "[23022 rows x 10 columns]"
      ]
     },
     "execution_count": 32,
     "metadata": {},
     "output_type": "execute_result"
    }
   ],
   "source": [
    "df"
   ]
  },
  {
   "cell_type": "code",
   "execution_count": null,
   "metadata": {},
   "outputs": [],
   "source": [
    "# This wont work for now.\n",
    "# ft_dir = os.getenv(\"FEATURES_DATA\")\n",
    "# ft_glob = glob(ft_dir+'/*.parquet')\n",
    "# df = dd.read_parquet(ft_glob).compute().reset_index()"
   ]
  },
  {
   "cell_type": "markdown",
   "metadata": {},
   "source": [
    "# Sampling in Python"
   ]
  },
  {
   "cell_type": "markdown",
   "metadata": {},
   "source": [
    "+ There are different packages that allow sampling.\n",
    "+ A practical approach is to use pandas/Dask sampling methods."
   ]
  },
  {
   "cell_type": "markdown",
   "metadata": {},
   "source": [
    "## Random Sampling\n",
    "\n",
    "+ Sample n rows from a dataframe with [`df.sample()`](https://pandas.pydata.org/docs/reference/api/pandas.DataFrame.sample.html).\n",
    "\n",
    "```\n",
    "DataFrame.sample(\n",
    "    n=None, frac=None, replace=False, weights=None, \n",
    "    random_state=None, axis=None, ignore_index=False\n",
    "    )\n",
    "```"
   ]
  },
  {
   "cell_type": "code",
   "execution_count": 33,
   "metadata": {},
   "outputs": [
    {
     "data": {
      "text/html": [
       "<div>\n",
       "<style scoped>\n",
       "    .dataframe tbody tr th:only-of-type {\n",
       "        vertical-align: middle;\n",
       "    }\n",
       "\n",
       "    .dataframe tbody tr th {\n",
       "        vertical-align: top;\n",
       "    }\n",
       "\n",
       "    .dataframe thead th {\n",
       "        text-align: right;\n",
       "    }\n",
       "</style>\n",
       "<table border=\"1\" class=\"dataframe\">\n",
       "  <thead>\n",
       "    <tr style=\"text-align: right;\">\n",
       "      <th></th>\n",
       "      <th>Date</th>\n",
       "      <th>Open</th>\n",
       "      <th>High</th>\n",
       "      <th>Low</th>\n",
       "      <th>Close</th>\n",
       "      <th>Volume</th>\n",
       "      <th>Dividends</th>\n",
       "      <th>Stock Splits</th>\n",
       "      <th>ticker</th>\n",
       "      <th>year</th>\n",
       "    </tr>\n",
       "  </thead>\n",
       "  <tbody>\n",
       "    <tr>\n",
       "      <th>17827</th>\n",
       "      <td>2023-10-09 00:00:00-04:00</td>\n",
       "      <td>106.010002</td>\n",
       "      <td>107.309998</td>\n",
       "      <td>104.790001</td>\n",
       "      <td>106.970001</td>\n",
       "      <td>39593200</td>\n",
       "      <td>0.0</td>\n",
       "      <td>0.0</td>\n",
       "      <td>AMD</td>\n",
       "      <td>2023</td>\n",
       "    </tr>\n",
       "    <tr>\n",
       "      <th>18341</th>\n",
       "      <td>2015-08-25 00:00:00-04:00</td>\n",
       "      <td>28.603874</td>\n",
       "      <td>28.603874</td>\n",
       "      <td>26.381069</td>\n",
       "      <td>26.411638</td>\n",
       "      <td>2437800</td>\n",
       "      <td>0.0</td>\n",
       "      <td>0.0</td>\n",
       "      <td>AOS</td>\n",
       "      <td>2015</td>\n",
       "    </tr>\n",
       "    <tr>\n",
       "      <th>15801</th>\n",
       "      <td>2015-09-21 00:00:00-04:00</td>\n",
       "      <td>1.870000</td>\n",
       "      <td>1.900000</td>\n",
       "      <td>1.810000</td>\n",
       "      <td>1.810000</td>\n",
       "      <td>5377800</td>\n",
       "      <td>0.0</td>\n",
       "      <td>0.0</td>\n",
       "      <td>AMD</td>\n",
       "      <td>2015</td>\n",
       "    </tr>\n",
       "    <tr>\n",
       "      <th>18148</th>\n",
       "      <td>2014-11-17 00:00:00-05:00</td>\n",
       "      <td>23.013778</td>\n",
       "      <td>23.347123</td>\n",
       "      <td>22.966157</td>\n",
       "      <td>23.338465</td>\n",
       "      <td>856400</td>\n",
       "      <td>0.0</td>\n",
       "      <td>0.0</td>\n",
       "      <td>AOS</td>\n",
       "      <td>2014</td>\n",
       "    </tr>\n",
       "    <tr>\n",
       "      <th>20267</th>\n",
       "      <td>2023-04-20 00:00:00-04:00</td>\n",
       "      <td>66.349497</td>\n",
       "      <td>67.656829</td>\n",
       "      <td>66.349497</td>\n",
       "      <td>67.597847</td>\n",
       "      <td>880800</td>\n",
       "      <td>0.0</td>\n",
       "      <td>0.0</td>\n",
       "      <td>AOS</td>\n",
       "      <td>2023</td>\n",
       "    </tr>\n",
       "  </tbody>\n",
       "</table>\n",
       "</div>"
      ],
      "text/plain": [
       "                           Date        Open        High         Low  \\\n",
       "17827 2023-10-09 00:00:00-04:00  106.010002  107.309998  104.790001   \n",
       "18341 2015-08-25 00:00:00-04:00   28.603874   28.603874   26.381069   \n",
       "15801 2015-09-21 00:00:00-04:00    1.870000    1.900000    1.810000   \n",
       "18148 2014-11-17 00:00:00-05:00   23.013778   23.347123   22.966157   \n",
       "20267 2023-04-20 00:00:00-04:00   66.349497   67.656829   66.349497   \n",
       "\n",
       "            Close    Volume  Dividends  Stock Splits ticker  year  \n",
       "17827  106.970001  39593200        0.0           0.0    AMD  2023  \n",
       "18341   26.411638   2437800        0.0           0.0    AOS  2015  \n",
       "15801    1.810000   5377800        0.0           0.0    AMD  2015  \n",
       "18148   23.338465    856400        0.0           0.0    AOS  2014  \n",
       "20267   67.597847    880800        0.0           0.0    AOS  2023  "
      ]
     },
     "execution_count": 33,
     "metadata": {},
     "output_type": "execute_result"
    }
   ],
   "source": [
    "df.sample(n = 5)"
   ]
  },
  {
   "cell_type": "code",
   "execution_count": 36,
   "metadata": {},
   "outputs": [
    {
     "data": {
      "text/plain": [
       "((2302, 10), (23022, 10))"
      ]
     },
     "execution_count": 36,
     "metadata": {},
     "output_type": "execute_result"
    }
   ],
   "source": [
    "simple_sample_dt = df.sample(frac = 0.1)\n",
    "simple_sample_dt.shape, df.shape"
   ]
  },
  {
   "cell_type": "markdown",
   "metadata": {},
   "source": [
    "Look at the distribution of tickers."
   ]
  },
  {
   "cell_type": "code",
   "execution_count": 35,
   "metadata": {},
   "outputs": [
    {
     "data": {
      "text/plain": [
       "<Axes: >"
      ]
     },
     "execution_count": 35,
     "metadata": {},
     "output_type": "execute_result"
    },
    {
     "data": {
      "image/png": "[encoded data removed]",
      "text/plain": [
       "<Figure size 640x480 with 1 Axes>"
      ]
     },
     "metadata": {},
     "output_type": "display_data"
    }
   ],
   "source": [
    "df['ticker'].hist()"
   ]
  },
  {
   "cell_type": "code",
   "execution_count": 37,
   "metadata": {},
   "outputs": [
    {
     "data": {
      "text/plain": [
       "<Axes: >"
      ]
     },
     "execution_count": 37,
     "metadata": {},
     "output_type": "execute_result"
    },
    {
     "data": {
      "image/png": "[encoded data removed]",
      "text/plain": [
       "<Figure size 640x480 with 1 Axes>"
      ]
     },
     "metadata": {},
     "output_type": "display_data"
    }
   ],
   "source": [
    "simple_sample_dt['ticker'].hist()"
   ]
  },
  {
   "cell_type": "markdown",
   "metadata": {},
   "source": [
    "## Stratified Sampling\n",
    "\n",
    "+ Use `groupby()` and `.sample()` for stratified sampling."
   ]
  },
  {
   "cell_type": "code",
   "execution_count": 38,
   "metadata": {},
   "outputs": [
    {
     "data": {
      "text/plain": [
       "<Axes: >"
      ]
     },
     "execution_count": 38,
     "metadata": {},
     "output_type": "execute_result"
    },
    {
     "data": {
      "image/png": "[encoded data removed]",
      "text/plain": [
       "<Figure size 640x480 with 1 Axes>"
      ]
     },
     "metadata": {},
     "output_type": "display_data"
    }
   ],
   "source": [
    "strat_sample_dt = df.groupby(['ticker']).sample(frac = 0.1) # getting 10% of each tech\n",
    "strat_sample_dt['ticker'].hist()"
   ]
  },
  {
   "cell_type": "markdown",
   "metadata": {},
   "source": [
    "# Sampling in Dask\n",
    "\n",
    "+ Stratified sampling in `dask` can be achieved with `groupby().apply()` and a lambda function."
   ]
  },
  {
   "cell_type": "code",
   "execution_count": 39,
   "metadata": {},
   "outputs": [
    {
     "name": "stderr",
     "output_type": "stream",
     "text": [
      "C:\\Users\\Ramin\\AppData\\Local\\Temp\\ipykernel_11396\\2911641312.py:2: UserWarning: `meta` is not specified, inferred from partial data. Please provide `meta` if the result is unexpected.\n",
      "  Before: .apply(func)\n",
      "  After:  .apply(func, meta={'x': 'f8', 'y': 'f8'}) for dataframe result\n",
      "  or:     .apply(func, meta=('x', 'f8'))            for series result\n",
      "  strat_sample_dd_dt = (dd_dt\n"
     ]
    },
    {
     "data": {
      "text/plain": [
       "<Axes: >"
      ]
     },
     "execution_count": 39,
     "metadata": {},
     "output_type": "execute_result"
    },
    {
     "data": {
      "image/png": "[encoded data removed]",
      "text/plain": [
       "<Figure size 640x480 with 1 Axes>"
      ]
     },
     "metadata": {},
     "output_type": "display_data"
    }
   ],
   "source": [
    "dd_dt = dd.read_parquet(ft_glob)\n",
    "strat_sample_dd_dt = (dd_dt\n",
    "                      .groupby('ticker', group_keys=False) # we do not want a grouped df at the end\n",
    "                      .apply(lambda x: x.sample(frac = 0.1)).compute())\n",
    "strat_sample_dd_dt.reset_index()['ticker'].hist()"
   ]
  }
 ],
 "metadata": {
  "kernelspec": {
   "display_name": "env",
   "language": "python",
   "name": "python3"
  },
  "language_info": {
   "codemirror_mode": {
    "name": "ipython",
    "version": 3
   },
   "file_extension": ".py",
   "mimetype": "text/x-python",
   "name": "python",
   "nbconvert_exporter": "python",
   "pygments_lexer": "ipython3",
   "version": "3.9.13"
  }
 },
 "nbformat": 4,
 "nbformat_minor": 2
}
